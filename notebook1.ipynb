{
  "nbformat": 4,
  "nbformat_minor": 0,
  "metadata": {
    "colab": {
      "name": "Untitled0.ipynb",
      "provenance": [],
      "collapsed_sections": []
    },
    "kernelspec": {
      "name": "python3",
      "display_name": "Python 3"
    }
  },
  "cells": [
    {
      "cell_type": "code",
      "metadata": {
        "id": "mzkFcS7Eq-Np",
        "colab_type": "code",
        "colab": {
          "base_uri": "https://localhost:8080/",
          "height": 34
        },
        "outputId": "9a51c0ea-8db9-4e0f-d85c-5976f486acb6"
      },
      "source": [
        "# integers \n",
        "x = 1\n",
        "type (x)\n"
      ],
      "execution_count": 1,
      "outputs": [
        {
          "output_type": "execute_result",
          "data": {
            "text/plain": [
              "int"
            ]
          },
          "metadata": {
            "tags": []
          },
          "execution_count": 1
        }
      ]
    },
    {
      "cell_type": "code",
      "metadata": {
        "id": "apJlrNMEr7Yb",
        "colab_type": "code",
        "colab": {
          "base_uri": "https://localhost:8080/",
          "height": 34
        },
        "outputId": "9939ced9-86d3-4089-dce6-660781c0dcbb"
      },
      "source": [
        "# float \n",
        "x = 2.8\n",
        "type (x) \n"
      ],
      "execution_count": 2,
      "outputs": [
        {
          "output_type": "execute_result",
          "data": {
            "text/plain": [
              "float"
            ]
          },
          "metadata": {
            "tags": []
          },
          "execution_count": 2
        }
      ]
    },
    {
      "cell_type": "code",
      "metadata": {
        "id": "I7lIfyTssIH6",
        "colab_type": "code",
        "colab": {
          "base_uri": "https://localhost:8080/",
          "height": 34
        },
        "outputId": "de786a97-ef44-4424-b0ff-a1e22fd5b13f"
      },
      "source": [
        "# boolean \n",
        "b1 = True \n",
        "b2 = False\n",
        "type(b1)"
      ],
      "execution_count": 4,
      "outputs": [
        {
          "output_type": "execute_result",
          "data": {
            "text/plain": [
              "bool"
            ]
          },
          "metadata": {
            "tags": []
          },
          "execution_count": 4
        }
      ]
    },
    {
      "cell_type": "code",
      "metadata": {
        "id": "A4MoLXdOsf6c",
        "colab_type": "code",
        "colab": {
          "base_uri": "https://localhost:8080/",
          "height": 34
        },
        "outputId": "bd072c48-7b1f-41e2-bbab-333869523829"
      },
      "source": [
        "# string\n",
        "name = 'pragathi'\n",
        "type(name) \n"
      ],
      "execution_count": 7,
      "outputs": [
        {
          "output_type": "execute_result",
          "data": {
            "text/plain": [
              "str"
            ]
          },
          "metadata": {
            "tags": []
          },
          "execution_count": 7
        }
      ]
    },
    {
      "cell_type": "code",
      "metadata": {
        "id": "URZHENe0tADj",
        "colab_type": "code",
        "colab": {
          "base_uri": "https://localhost:8080/",
          "height": 34
        },
        "outputId": "e1e2228c-ac93-4cd8-d192-05a9588bd60d"
      },
      "source": [
        "# complex numbers : note the use 'j' to specify the imaginary part \n",
        "x = 0.3 - 0.4j\n",
        "type(x)"
      ],
      "execution_count": 8,
      "outputs": [
        {
          "output_type": "execute_result",
          "data": {
            "text/plain": [
              "complex"
            ]
          },
          "metadata": {
            "tags": []
          },
          "execution_count": 8
        }
      ]
    },
    {
      "cell_type": "code",
      "metadata": {
        "id": "9aImrLcKtgw1",
        "colab_type": "code",
        "colab": {
          "base_uri": "https://localhost:8080/",
          "height": 34
        },
        "outputId": "edd5ddcf-b209-4184-d8c8-884ca305271f"
      },
      "source": [
        "print(x)"
      ],
      "execution_count": 9,
      "outputs": [
        {
          "output_type": "stream",
          "text": [
            "(0.3-0.4j)\n"
          ],
          "name": "stdout"
        }
      ]
    },
    {
      "cell_type": "code",
      "metadata": {
        "id": "YouE4sDBuC5C",
        "colab_type": "code",
        "colab": {
          "base_uri": "https://localhost:8080/",
          "height": 34
        },
        "outputId": "86f855c6-3e31-4b8f-8d42-92edb017de92"
      },
      "source": [
        "print(x.real,x.imag)"
      ],
      "execution_count": 10,
      "outputs": [
        {
          "output_type": "stream",
          "text": [
            "0.3 -0.4\n"
          ],
          "name": "stdout"
        }
      ]
    },
    {
      "cell_type": "code",
      "metadata": {
        "id": "tBpi9elYuyZF",
        "colab_type": "code",
        "colab": {
          "base_uri": "https://localhost:8080/",
          "height": 51
        },
        "outputId": "6f260f07-a651-4a7b-a2c1-f5f75c3708b1"
      },
      "source": [
        "tenth = 10\n",
        "two = 2\n",
        "print(tenth)\n",
        "two"
      ],
      "execution_count": 13,
      "outputs": [
        {
          "output_type": "stream",
          "text": [
            "10\n"
          ],
          "name": "stdout"
        },
        {
          "output_type": "execute_result",
          "data": {
            "text/plain": [
              "2"
            ]
          },
          "metadata": {
            "tags": []
          },
          "execution_count": 13
        }
      ]
    },
    {
      "cell_type": "code",
      "metadata": {
        "id": "brDJ_jNPvIyA",
        "colab_type": "code",
        "colab": {
          "base_uri": "https://localhost:8080/",
          "height": 34
        },
        "outputId": "03e091fc-9208-4781-f241-67a87adf61b7"
      },
      "source": [
        "ten = 10\n",
        "ten "
      ],
      "execution_count": 14,
      "outputs": [
        {
          "output_type": "execute_result",
          "data": {
            "text/plain": [
              "10"
            ]
          },
          "metadata": {
            "tags": []
          },
          "execution_count": 14
        }
      ]
    },
    {
      "cell_type": "code",
      "metadata": {
        "id": "JMZlDXjDvU2H",
        "colab_type": "code",
        "colab": {
          "base_uri": "https://localhost:8080/",
          "height": 35
        },
        "outputId": "6abc9585-9cd8-422a-879b-ab7140b1b530"
      },
      "source": [
        "ten = 'ten'\n",
        "ten"
      ],
      "execution_count": 15,
      "outputs": [
        {
          "output_type": "execute_result",
          "data": {
            "application/vnd.google.colaboratory.intrinsic+json": {
              "type": "string"
            },
            "text/plain": [
              "'ten'"
            ]
          },
          "metadata": {
            "tags": []
          },
          "execution_count": 15
        }
      ]
    },
    {
      "cell_type": "code",
      "metadata": {
        "id": "WhkoASpPwRne",
        "colab_type": "code",
        "colab": {
          "base_uri": "https://localhost:8080/",
          "height": 163
        },
        "outputId": "d33dfc1b-88a3-4c43-d422-f80922796c98"
      },
      "source": [
        "'day' +1"
      ],
      "execution_count": 16,
      "outputs": [
        {
          "output_type": "error",
          "ename": "TypeError",
          "evalue": "ignored",
          "traceback": [
            "\u001b[0;31m---------------------------------------------------------------------------\u001b[0m",
            "\u001b[0;31mTypeError\u001b[0m                                 Traceback (most recent call last)",
            "\u001b[0;32m<ipython-input-16-b4610c834282>\u001b[0m in \u001b[0;36m<module>\u001b[0;34m()\u001b[0m\n\u001b[0;32m----> 1\u001b[0;31m \u001b[0;34m'day'\u001b[0m \u001b[0;34m+\u001b[0m\u001b[0;36m1\u001b[0m\u001b[0;34m\u001b[0m\u001b[0;34m\u001b[0m\u001b[0m\n\u001b[0m",
            "\u001b[0;31mTypeError\u001b[0m: must be str, not int"
          ]
        }
      ]
    },
    {
      "cell_type": "code",
      "metadata": {
        "id": "TKD39z_ywXme",
        "colab_type": "code",
        "colab": {
          "base_uri": "https://localhost:8080/",
          "height": 35
        },
        "outputId": "595a8d9d-58cd-42c2-f97a-913b7902f7ad"
      },
      "source": [
        "'day' +str(1)"
      ],
      "execution_count": 18,
      "outputs": [
        {
          "output_type": "execute_result",
          "data": {
            "application/vnd.google.colaboratory.intrinsic+json": {
              "type": "string"
            },
            "text/plain": [
              "'day1'"
            ]
          },
          "metadata": {
            "tags": []
          },
          "execution_count": 18
        }
      ]
    },
    {
      "cell_type": "code",
      "metadata": {
        "id": "la3XAql9xIUF",
        "colab_type": "code",
        "colab": {
          "base_uri": "https://localhost:8080/",
          "height": 34
        },
        "outputId": "9f343f8b-d544-4a16-a8bf-999800427964"
      },
      "source": [
        "True and True"
      ],
      "execution_count": 20,
      "outputs": [
        {
          "output_type": "execute_result",
          "data": {
            "text/plain": [
              "True"
            ]
          },
          "metadata": {
            "tags": []
          },
          "execution_count": 20
        }
      ]
    },
    {
      "cell_type": "code",
      "metadata": {
        "id": "qmSPt5aaxYvA",
        "colab_type": "code",
        "colab": {
          "base_uri": "https://localhost:8080/",
          "height": 34
        },
        "outputId": "465b5211-5eb3-4336-8d1d-7724795e9fb6"
      },
      "source": [
        "True or False"
      ],
      "execution_count": 21,
      "outputs": [
        {
          "output_type": "execute_result",
          "data": {
            "text/plain": [
              "True"
            ]
          },
          "metadata": {
            "tags": []
          },
          "execution_count": 21
        }
      ]
    },
    {
      "cell_type": "code",
      "metadata": {
        "id": "fGJ43sQxxjfY",
        "colab_type": "code",
        "colab": {}
      },
      "source": [
        "not True "
      ],
      "execution_count": null,
      "outputs": []
    },
    {
      "cell_type": "code",
      "metadata": {
        "id": "wfngBk2txoor",
        "colab_type": "code",
        "colab": {}
      },
      "source": [
        "True is True "
      ],
      "execution_count": null,
      "outputs": []
    },
    {
      "cell_type": "code",
      "metadata": {
        "id": "0ZArpiLVx3dZ",
        "colab_type": "code",
        "colab": {}
      },
      "source": [
        "True is False "
      ],
      "execution_count": null,
      "outputs": []
    },
    {
      "cell_type": "code",
      "metadata": {
        "id": "JUn5EHttx6sQ",
        "colab_type": "code",
        "colab": {}
      },
      "source": [
        "'a' is 'a'"
      ],
      "execution_count": null,
      "outputs": []
    },
    {
      "cell_type": "code",
      "metadata": {
        "id": "IjapSyDNyL4Z",
        "colab_type": "code",
        "colab": {}
      },
      "source": [
        "i = 3\n",
        "if i < 3:\n",
        "  print('less than 3')\n",
        "  elif i < 5:\n",
        "    print('less tha 5')\n",
        "    else \n",
        "    print('5 or more')"
      ],
      "execution_count": null,
      "outputs": []
    },
    {
      "cell_type": "code",
      "metadata": {
        "id": "NzkINv3Qzvq-",
        "colab_type": "code",
        "colab": {}
      },
      "source": [
        "1 = []"
      ],
      "execution_count": null,
      "outputs": []
    },
    {
      "cell_type": "code",
      "metadata": {
        "id": "-TNciZPTzzgl",
        "colab_type": "code",
        "colab": {}
      },
      "source": [
        "1 = list()"
      ],
      "execution_count": null,
      "outputs": []
    },
    {
      "cell_type": "code",
      "metadata": {
        "id": "8aUMt8Aez3GP",
        "colab_type": "code",
        "colab": {}
      },
      "source": [
        "1 = ['a',6]\n",
        "1"
      ],
      "execution_count": null,
      "outputs": []
    },
    {
      "cell_type": "code",
      "metadata": {
        "id": "FriYN1u10TM2",
        "colab_type": "code",
        "colab": {}
      },
      "source": [
        "1 = ['a', 'b' , 'c']\n",
        "print(1)\n",
        "type(1)"
      ],
      "execution_count": null,
      "outputs": []
    },
    {
      "cell_type": "code",
      "metadata": {
        "id": "jDv3Mpr40mPV",
        "colab_type": "code",
        "colab": {}
      },
      "source": [
        "12 = list(1)\n",
        "12"
      ],
      "execution_count": null,
      "outputs": []
    },
    {
      "cell_type": "code",
      "metadata": {
        "id": "gpMJbvbP0od1",
        "colab_type": "code",
        "colab": {}
      },
      "source": [
        "list('abcdef')"
      ],
      "execution_count": null,
      "outputs": []
    },
    {
      "cell_type": "code",
      "metadata": {
        "id": "ZUB0SYfM0yHE",
        "colab_type": "code",
        "colab": {}
      },
      "source": [
        "1 = [1,2]\n",
        "print(1)\n",
        "1.append('b')\n",
        "print(1)\n",
        "1.append('c')\n",
        "print(1)\n",
        "1.insert(1,20)\n",
        "1"
      ],
      "execution_count": null,
      "outputs": []
    },
    {
      "cell_type": "code",
      "metadata": {
        "id": "hQcS22n11mcd",
        "colab_type": "code",
        "colab": {}
      },
      "source": [
        "for i in l:\n",
        "  print(i)"
      ],
      "execution_count": null,
      "outputs": []
    },
    {
      "cell_type": "code",
      "metadata": {
        "id": "qvLUOhXL2Bs6",
        "colab_type": "code",
        "colab": {}
      },
      "source": [
        "numbers = [1,2,3,4,5,6,7,8,9]\n",
        "sum = 0\n",
        "for i in number:\n",
        "  sum = sum + i\n",
        "  print(\"the sum is\", sum)\n",
        "  sum"
      ],
      "execution_count": null,
      "outputs": []
    },
    {
      "cell_type": "code",
      "metadata": {
        "id": "tngjpQOc3WoY",
        "colab_type": "code",
        "colab": {}
      },
      "source": [
        "digits = [2 , 3 , 4]\n",
        "for i in digits :\n",
        "  print(i)\n",
        "  else:\n",
        "  print(\"no items left\")\n"
      ],
      "execution_count": null,
      "outputs": []
    },
    {
      "cell_type": "code",
      "metadata": {
        "id": "Gw1J8ftS3yC4",
        "colab_type": "code",
        "colab": {}
      },
      "source": [
        "n = int(input(\"enter n:\"))\n",
        "sum = 0\n",
        "i = 1\n",
        "while i <= n:\n",
        "  sum = sum + i\n",
        "  i = i+1\n",
        "  print(\"the sum is\", sum)"
      ],
      "execution_count": null,
      "outputs": []
    },
    {
      "cell_type": "code",
      "metadata": {
        "id": "6lhhFwW45UFh",
        "colab_type": "code",
        "colab": {}
      },
      "source": [
        "print (range(10))"
      ],
      "execution_count": null,
      "outputs": []
    },
    {
      "cell_type": "code",
      "metadata": {
        "id": "TRN5yTXl5bmE",
        "colab_type": "code",
        "colab": {}
      },
      "source": [
        "print(list(range(10)))"
      ],
      "execution_count": null,
      "outputs": []
    },
    {
      "cell_type": "code",
      "metadata": {
        "id": "QIIEROuw5e7t",
        "colab_type": "code",
        "colab": {}
      },
      "source": [
        "print(list(range(3, 6)))"
      ],
      "execution_count": null,
      "outputs": []
    },
    {
      "cell_type": "code",
      "metadata": {
        "id": "HiHLLvXK5v99",
        "colab_type": "code",
        "colab": {}
      },
      "source": [
        "print(list(range(3, 4, 5)))"
      ],
      "execution_count": null,
      "outputs": []
    },
    {
      "cell_type": "code",
      "metadata": {
        "id": "XqQ1Us5F5kzs",
        "colab_type": "code",
        "colab": {}
      },
      "source": [
        "genre = ['pop','rock','jazz','sapna']\n",
        "for i in range(len(genre)):\n",
        "  print(\"i like\", genre[i])"
      ],
      "execution_count": null,
      "outputs": []
    },
    {
      "cell_type": "code",
      "metadata": {
        "id": "Y8YzLuL66oCj",
        "colab_type": "code",
        "colab": {}
      },
      "source": [
        "for val in \"pragathi\":\n",
        "  if val == \"g\":\n",
        "    break\n",
        "    print(val)\n",
        "    print(\"the end\")"
      ],
      "execution_count": null,
      "outputs": []
    },
    {
      "cell_type": "code",
      "metadata": {
        "id": "gBHR_UWf7VmI",
        "colab_type": "code",
        "colab": {}
      },
      "source": [
        "for val in \"pragathi\":\n",
        "  if val == \"g\":\n",
        "    continue \n",
        "    print(val)\n",
        "    print(\"the end\")\n",
        "    "
      ],
      "execution_count": null,
      "outputs": []
    },
    {
      "cell_type": "code",
      "metadata": {
        "id": "_95dKKya7nQ4",
        "colab_type": "code",
        "colab": {}
      },
      "source": [
        "name = input(\"what is ur name?\\n\")\n",
        "type(name)"
      ],
      "execution_count": null,
      "outputs": []
    },
    {
      "cell_type": "code",
      "metadata": {
        "id": "oeVnCWHT8CXF",
        "colab_type": "code",
        "colab": {}
      },
      "source": [
        "age = int(input(\"what is ur age?\"))\n",
        "      print(\"your age is\", age)\n",
        "      type(age)"
      ],
      "execution_count": null,
      "outputs": []
    },
    {
      "cell_type": "code",
      "metadata": {
        "id": "fh0xBss78pcA",
        "colab_type": "code",
        "colab": {}
      },
      "source": [
        "name = input(\"what is your name?\")\n",
        "print(\"it was nice talking to you\" + name + \"!\")\n",
        "age = input(\"what is your age?\")\n",
        "print(\"Hey, you are alraedy \" + age+ \"years old, \" +name+ \"!\")"
      ],
      "execution_count": null,
      "outputs": []
    }
  ]
}