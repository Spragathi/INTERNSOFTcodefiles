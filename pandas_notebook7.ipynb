{
  "nbformat": 4,
  "nbformat_minor": 0,
  "metadata": {
    "colab": {
      "name": "pandas_notebook.ipynb",
      "provenance": []
    },
    "kernelspec": {
      "name": "python3",
      "display_name": "Python 3"
    }
  },
  "cells": [
    {
      "cell_type": "code",
      "metadata": {
        "id": "R9yDr4oe2NYs",
        "colab_type": "code",
        "colab": {}
      },
      "source": [
        "import numpy as np\n",
        "import pandas as pd"
      ],
      "execution_count": 1,
      "outputs": []
    },
    {
      "cell_type": "code",
      "metadata": {
        "id": "Z7BoV_YN3IHo",
        "colab_type": "code",
        "colab": {
          "base_uri": "https://localhost:8080/",
          "height": 102
        },
        "outputId": "933d20ef-79e2-455f-8244-ffeb2c1558f6"
      },
      "source": [
        "counts = pd.Series([100, 1500, 200, 544])\n",
        "counts"
      ],
      "execution_count": 4,
      "outputs": [
        {
          "output_type": "execute_result",
          "data": {
            "text/plain": [
              "0     100\n",
              "1    1500\n",
              "2     200\n",
              "3     544\n",
              "dtype: int64"
            ]
          },
          "metadata": {
            "tags": []
          },
          "execution_count": 4
        }
      ]
    },
    {
      "cell_type": "code",
      "metadata": {
        "id": "eqprzYv83LXt",
        "colab_type": "code",
        "colab": {
          "base_uri": "https://localhost:8080/",
          "height": 34
        },
        "outputId": "c47eed76-8f3c-460c-a7da-01f6a8d8a442"
      },
      "source": [
        "counts.values"
      ],
      "execution_count": 5,
      "outputs": [
        {
          "output_type": "execute_result",
          "data": {
            "text/plain": [
              "array([ 100, 1500,  200,  544])"
            ]
          },
          "metadata": {
            "tags": []
          },
          "execution_count": 5
        }
      ]
    },
    {
      "cell_type": "code",
      "metadata": {
        "id": "E5wOzHiY3YGt",
        "colab_type": "code",
        "colab": {
          "base_uri": "https://localhost:8080/",
          "height": 34
        },
        "outputId": "3dbace7f-2049-42f0-88a6-43bd3dafbafc"
      },
      "source": [
        "counts.index"
      ],
      "execution_count": 6,
      "outputs": [
        {
          "output_type": "execute_result",
          "data": {
            "text/plain": [
              "RangeIndex(start=0, stop=4, step=1)"
            ]
          },
          "metadata": {
            "tags": []
          },
          "execution_count": 6
        }
      ]
    },
    {
      "cell_type": "code",
      "metadata": {
        "id": "_hwoU6v_3cVc",
        "colab_type": "code",
        "colab": {
          "base_uri": "https://localhost:8080/",
          "height": 102
        },
        "outputId": "cb3ae146-2ca5-4794-938b-bb4500fc0b32"
      },
      "source": [
        "bacteria = pd.Series([632, 1638, 569, 115], \n",
        "    index=['Firmicutes', 'Proteobacteria', 'Actinobacteria', 'Bacteroidetes'])\n",
        "bacteria"
      ],
      "execution_count": 7,
      "outputs": [
        {
          "output_type": "execute_result",
          "data": {
            "text/plain": [
              "Firmicutes         100\n",
              "Proteobacteria     200\n",
              "Actinobacteria     900\n",
              "Bacteroidetes     1566\n",
              "dtype: int64"
            ]
          },
          "metadata": {
            "tags": []
          },
          "execution_count": 7
        }
      ]
    },
    {
      "cell_type": "code",
      "metadata": {
        "id": "A7p9DAum5Ond",
        "colab_type": "code",
        "colab": {}
      },
      "source": [
        "bacteria['Actinobacteria']"
      ],
      "execution_count": null,
      "outputs": []
    },
    {
      "cell_type": "code",
      "metadata": {
        "id": "sHDUHilc5aEK",
        "colab_type": "code",
        "colab": {}
      },
      "source": [
        "bacteria[0]"
      ],
      "execution_count": null,
      "outputs": []
    },
    {
      "cell_type": "code",
      "metadata": {
        "id": "xm5uRak95cmT",
        "colab_type": "code",
        "colab": {}
      },
      "source": [
        "bacteria.name = 'counts'\n",
        "bacteria.index.name = 'phylum'\n",
        "bacteria"
      ],
      "execution_count": null,
      "outputs": []
    },
    {
      "cell_type": "code",
      "metadata": {
        "id": "E69MlC7s5emq",
        "colab_type": "code",
        "colab": {}
      },
      "source": [
        "np.log(bacteria)"
      ],
      "execution_count": null,
      "outputs": []
    },
    {
      "cell_type": "code",
      "metadata": {
        "id": "63uvWkao5gkT",
        "colab_type": "code",
        "colab": {}
      },
      "source": [
        "bacteria[bacteria>1000]"
      ],
      "execution_count": null,
      "outputs": []
    },
    {
      "cell_type": "code",
      "metadata": {
        "id": "EMjW9V105ipv",
        "colab_type": "code",
        "colab": {}
      },
      "source": [
        "bacteria_dict = {'Firmicutes': 632, 'Proteobacteria': 1500, 'Actinobacteria': 569, 'Bacteroidetes': 115}\n",
        "print(bacteria_dict)\n",
        "pd.Series(bacteria_dict)"
      ],
      "execution_count": null,
      "outputs": []
    },
    {
      "cell_type": "code",
      "metadata": {
        "id": "a7xPI3FY5k8i",
        "colab_type": "code",
        "colab": {}
      },
      "source": [
        "data = {\"Province\": [\"FL\", \"FL\", \"NH\", \"NH\", \"ZH\"],\n",
        "        \"Year\": [2013, 2014, 2013, 2014, 2014],\n",
        "        \"Literacy\": [0.2, 0.1, 0.5, 0.3, 0.5]}\n",
        "print(data)\n",
        "data = pd.DataFrame(data)\n",
        "data"
      ],
      "execution_count": null,
      "outputs": []
    },
    {
      "cell_type": "code",
      "metadata": {
        "id": "7M7Jo_MB5nRP",
        "colab_type": "code",
        "colab": {}
      },
      "source": [
        "df = pd.DataFrame(data, columns=[\"Year\", \"Province\" ,\"Literacy\"])\n",
        "df"
      ],
      "execution_count": null,
      "outputs": []
    },
    {
      "cell_type": "code",
      "metadata": {
        "id": "YMW3cgql5piX",
        "colab_type": "code",
        "colab": {}
      },
      "source": [
        "df['nonsense'] = df.Year / df.Literacy\n",
        "df"
      ],
      "execution_count": null,
      "outputs": []
    },
    {
      "cell_type": "code",
      "metadata": {
        "id": "VdiZpvG-5tYv",
        "colab_type": "code",
        "colab": {}
      },
      "source": [
        "df.to_dict()"
      ],
      "execution_count": null,
      "outputs": []
    },
    {
      "cell_type": "code",
      "metadata": {
        "id": "6LF6D5fT5xiP",
        "colab_type": "code",
        "colab": {}
      },
      "source": [
        "pd.DataFrame(df.to_dict())"
      ],
      "execution_count": null,
      "outputs": []
    },
    {
      "cell_type": "code",
      "metadata": {
        "id": "4iFsvUQX50FH",
        "colab_type": "code",
        "colab": {}
      },
      "source": [
        "data = [{'a': i, 'b':10* i}for i in range(6)]\n",
        "print(data)\n",
        "pd.DataFrame(data)"
      ],
      "execution_count": null,
      "outputs": []
    },
    {
      "cell_type": "code",
      "metadata": {
        "id": "OVzaBIO053NJ",
        "colab_type": "code",
        "colab": {}
      },
      "source": [
        "pd.DataFrame([{'aa': 1, 'bb': 2}, {'bb': 3, 'cc': 6}])"
      ],
      "execution_count": null,
      "outputs": []
    },
    {
      "cell_type": "code",
      "metadata": {
        "id": "mLX0hCmS55NX",
        "colab_type": "code",
        "colab": {}
      },
      "source": [
        "pd.DataFrame(np.random.randint(2, 12),\n",
        "             columns=['foo', 'bar'],\n",
        "             index=['a', 'b', 'c'])"
      ],
      "execution_count": null,
      "outputs": []
    },
    {
      "cell_type": "code",
      "metadata": {
        "id": "m5EfGyhV57RI",
        "colab_type": "code",
        "colab": {}
      },
      "source": [
        "ind = pd.Index([20, 34, 57, 7, 1, 8])\n",
        "ind"
      ],
      "execution_count": null,
      "outputs": []
    },
    {
      "cell_type": "code",
      "metadata": {
        "id": "gOwX_VNp59JY",
        "colab_type": "code",
        "colab": {}
      },
      "source": [
        "ind[1]"
      ],
      "execution_count": null,
      "outputs": []
    },
    {
      "cell_type": "code",
      "metadata": {
        "id": "AHaXhgdh6Ic3",
        "colab_type": "code",
        "colab": {}
      },
      "source": [
        "ind[::]"
      ],
      "execution_count": null,
      "outputs": []
    },
    {
      "cell_type": "code",
      "metadata": {
        "id": "vGt9ag6y6WNk",
        "colab_type": "code",
        "colab": {}
      },
      "source": [
        "print(ind.size, ind.shape, ind.ndim, ind.dtype)"
      ],
      "execution_count": null,
      "outputs": []
    },
    {
      "cell_type": "code",
      "metadata": {
        "id": "hZsA17VJ6ghq",
        "colab_type": "code",
        "colab": {}
      },
      "source": [
        "ind[1] = 0"
      ],
      "execution_count": null,
      "outputs": []
    },
    {
      "cell_type": "code",
      "metadata": {
        "id": "iGjUN5N76iaJ",
        "colab_type": "code",
        "colab": {}
      },
      "source": [
        "rng = np.random.RandomState(15)\n",
        "ser = pd.Series(rng.randint(0, 10, 4))\n",
        "ser"
      ],
      "execution_count": null,
      "outputs": []
    },
    {
      "cell_type": "code",
      "metadata": {
        "id": "rttNsqbL6l_B",
        "colab_type": "code",
        "colab": {}
      },
      "source": [
        "dfr = pd.DataFrame(rng.randint(0, 10, (5, 4)),\n",
        "                  columns=['A', 'B', 'C', 'D'])\n",
        "dfr"
      ],
      "execution_count": null,
      "outputs": []
    },
    {
      "cell_type": "code",
      "metadata": {
        "id": "3klDqEec6n_H",
        "colab_type": "code",
        "colab": {}
      },
      "source": [
        "np.exp(ser)"
      ],
      "execution_count": null,
      "outputs": []
    },
    {
      "cell_type": "code",
      "metadata": {
        "id": "kmU9G2Ot6qsH",
        "colab_type": "code",
        "colab": {}
      },
      "source": [
        "np.sin(dfr * np.pi / 4)"
      ],
      "execution_count": null,
      "outputs": []
    },
    {
      "cell_type": "code",
      "metadata": {
        "id": "03UNVDT46tg3",
        "colab_type": "code",
        "colab": {}
      },
      "source": [
        "area = pd.Series({'Alaska': 1723337, 'Texas': 695662,\n",
        "                  'California': 423967}, name='area')\n",
        "population = pd.Series({'California': 38332521, 'Texas': 26448193,\n",
        "                        'New York': 19651127}, name='population')\n",
        "print(area)\n",
        "population"
      ],
      "execution_count": null,
      "outputs": []
    },
    {
      "cell_type": "code",
      "metadata": {
        "id": "vXEvJUwp6v6v",
        "colab_type": "code",
        "colab": {}
      },
      "source": [
        "population / area"
      ],
      "execution_count": null,
      "outputs": []
    },
    {
      "cell_type": "code",
      "metadata": {
        "id": "h-KwrZ6k6yYf",
        "colab_type": "code",
        "colab": {}
      },
      "source": [
        "area.index | population.index"
      ],
      "execution_count": null,
      "outputs": []
    },
    {
      "cell_type": "code",
      "metadata": {
        "id": "jY3joZKQ7CeD",
        "colab_type": "code",
        "colab": {}
      },
      "source": [
        "A = pd.Series([2, 4, 6], index=[0, 1, 2])\n",
        "B = pd.Series([1, 3, 5], index=[1, 2, 3])\n",
        "print(A)\n",
        "print(B)\n",
        "B\n",
        "A + B"
      ],
      "execution_count": null,
      "outputs": []
    },
    {
      "cell_type": "code",
      "metadata": {
        "id": "ESY2Tk5T7XMb",
        "colab_type": "code",
        "colab": {}
      },
      "source": [
        "A.add(B, fill_value=0)"
      ],
      "execution_count": null,
      "outputs": []
    },
    {
      "cell_type": "code",
      "metadata": {
        "id": "D2Um3iRr7cXP",
        "colab_type": "code",
        "colab": {}
      },
      "source": [
        "df"
      ],
      "execution_count": null,
      "outputs": []
    },
    {
      "cell_type": "code",
      "metadata": {
        "id": "p4GrYuyQ7eiq",
        "colab_type": "code",
        "colab": {}
      },
      "source": [
        "df2 = pd.DataFrame({\"Province\": [\"FL\", \"NH\", \"ZH\"], \"Population\": [\"100000\", \"200000\", \"300000\"]})\n",
        "df2"
      ],
      "execution_count": null,
      "outputs": []
    },
    {
      "cell_type": "code",
      "metadata": {
        "id": "SK_ZW-_I7gXu",
        "colab_type": "code",
        "colab": {}
      },
      "source": [
        "df.merge(df2)  "
      ],
      "execution_count": null,
      "outputs": []
    },
    {
      "cell_type": "code",
      "metadata": {
        "id": "VgrF5_pp7j8g",
        "colab_type": "code",
        "colab": {}
      },
      "source": [
        "df3 = pd.DataFrame({\"province\": [\"FL\", \"NH\"], \"Population\": [\"100000\", \"200000\"]})\n",
        "df3\n",
        "df.merge(df3, right_on='province', left_on='Province')"
      ],
      "execution_count": null,
      "outputs": []
    },
    {
      "cell_type": "code",
      "metadata": {
        "id": "pzIfTEuD7mM1",
        "colab_type": "code",
        "colab": {}
      },
      "source": [
        "df4 = pd.DataFrame({\"Province\": [\"FL\", \"NH\", \"UT\"], \"Population\": [\"100000\", \"200000\", \"50000\"]})\n",
        "df.merge(df4, how='outer')"
      ],
      "execution_count": null,
      "outputs": []
    },
    {
      "cell_type": "code",
      "metadata": {
        "id": "1aDY0tMg7pQi",
        "colab_type": "code",
        "colab": {}
      },
      "source": [
        "df5 = pd.DataFrame({\"Province\": [\"FL\", \"NH\", \"FL\"], \"Population\": [\"100000\", \"200000\", \"50000\"]})\n",
        "print(df)\n",
        "df.merge(df5, how='outer')"
      ],
      "execution_count": null,
      "outputs": []
    },
    {
      "cell_type": "code",
      "metadata": {
        "id": "P6qOlM9n7ww_",
        "colab_type": "code",
        "colab": {}
      },
      "source": [
        "serie_a = pd.Series([np.nan, 2.5, np.nan, 3.5, 4.5, np.nan],\n",
        "                     index=['f', 'e', 'd', 'c', 'b', 'a'])\n",
        "serie_b = pd.Series(np.arange(len(serie_a), dtype=np.float64),\n",
        "                 index=['f', 'e', 'd', 'c', 'b', 'a'])"
      ],
      "execution_count": null,
      "outputs": []
    },
    {
      "cell_type": "code",
      "metadata": {
        "id": "Kfh2XB8r7zzl",
        "colab_type": "code",
        "colab": {}
      },
      "source": [
        "serie_a"
      ],
      "execution_count": null,
      "outputs": []
    },
    {
      "cell_type": "code",
      "metadata": {
        "id": "rydEFtQB73XJ",
        "colab_type": "code",
        "colab": {}
      },
      "source": [
        "serie_b"
      ],
      "execution_count": null,
      "outputs": []
    },
    {
      "cell_type": "code",
      "metadata": {
        "id": "Fkc9kuX_8ITM",
        "colab_type": "code",
        "colab": {}
      },
      "source": [
        "pd.Series(np.where(pd.isnull(serie_a), serie_b, serie_a), index=serie_a.index)"
      ],
      "execution_count": null,
      "outputs": []
    },
    {
      "cell_type": "code",
      "metadata": {
        "id": "oVhgY8ei8JO0",
        "colab_type": "code",
        "colab": {}
      },
      "source": [
        "serie_a.combine_first(serie_b)"
      ],
      "execution_count": null,
      "outputs": []
    }
  ]
}